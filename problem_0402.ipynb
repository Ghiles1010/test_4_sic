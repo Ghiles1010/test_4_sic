{
  "nbformat": 4,
  "nbformat_minor": 2,
  "metadata": {
    "kernelspec": {
      "name": "python3",
      "display_name": "Python 3.8.2 64-bit"
    },
    "language_info": {
      "codemirror_mode": {
        "name": "ipython",
        "version": 3
      },
      "file_extension": ".py",
      "mimetype": "text/x-python",
      "name": "python",
      "nbconvert_exporter": "python",
      "pygments_lexer": "ipython3",
      "version": "3.8.2"
    },
    "colab": {
      "name": "problem_0402.ipynb",
      "provenance": []
    },
    "interpreter": {
      "hash": "fd88d7af6e94c6929b65b5dc552f91130e2e10e9038db61f82cd7f9c6aff4407"
    }
  },
  "cells": [
    {
      "cell_type": "markdown",
      "source": [
        "## Quiz #0402"
      ],
      "metadata": {
        "id": "fymIZnE2HiSk"
      }
    },
    {
      "cell_type": "markdown",
      "source": [
        "### \"OLS solution\""
      ],
      "metadata": {
        "id": "ev6UMwZsHiSq"
      }
    },
    {
      "cell_type": "code",
      "execution_count": 66,
      "source": [
        "import numpy as np\r\n",
        "import pandas as pd"
      ],
      "outputs": [],
      "metadata": {
        "id": "KjB62CZXHiSs"
      }
    },
    {
      "cell_type": "markdown",
      "source": [
        "#### Answer the following question by providing Python code:\n",
        "<br>\n",
        "study = an array that contains the hours of study. This is the explanatory variable. <br>\n",
        "score = an array that contains the test scores. This is the response variable."
      ],
      "metadata": {
        "id": "anHya6yqHiSt"
      }
    },
    {
      "cell_type": "code",
      "execution_count": 67,
      "source": [
        "study = np.array([ 3, 4.5, 6, 1.2, 2, 6.9, 6.7, 5.5]).reshape(-1,1)\r\n",
        "score = np.array([ 88, 85, 90, 80, 81, 92, 95, 90]).reshape(-1,1)"
      ],
      "outputs": [],
      "metadata": {
        "id": "medl6inpHiSu"
      }
    },
    {
      "cell_type": "markdown",
      "source": [
        "1). Define the 'linerRegression' class to match the output shown below:"
      ],
      "metadata": {
        "id": "DmOxv3DsHiSv"
      }
    },
    {
      "cell_type": "code",
      "execution_count": 73,
      "source": [
        "class linearRegression:\r\n",
        "  \r\n",
        "  def __init__(self):\r\n",
        "    \r\n",
        "    self.R2 = None\r\n",
        "    self.summary = None\r\n",
        "    self.beta = None\r\n",
        "    self.residuals = None \r\n",
        "      \r\n",
        "  def train(self, input_X, input_Y):\r\n",
        "      n = input_X.shape[0]                                      # Number of observations.\r\n",
        "      k = input_X.shape[1]                                      # Number of explanatory variables.\r\n",
        "\r\n",
        "      # adding intercept term to input_X\r\n",
        "      intercept = np.ones((n,1))\r\n",
        "      \r\n",
        "      X = np.concatenate((intercept, input_X), axis=1)\r\n",
        "      Y = input_Y\r\n",
        "      \r\n",
        "      # Regression Coefficients by OLS.\r\n",
        "      self.beta = np.dot(np.linalg.inv(np.dot(X.T,X)),np.dot(X.T,Y))\r\n",
        "      \r\n",
        "      # Residuals.\r\n",
        "      self.residuals = Y - np.dot(X,self.beta)\r\n",
        "        \r\n",
        "      # R^2.\r\n",
        "      self.R2 = 1 - np.sum(self.residuals**2)/np.sum((Y-np.mean(Y))**2) \r\n",
        "      \r\n",
        "      # Summary.\r\n",
        "      index = ['Intercept'] + ['X'+str(i) for i in range(1,k+1)]\r\n",
        "      self.summary = pd.DataFrame( self.beta.T.flat, index = index, columns=['Coefficient'] )\r\n",
        "\r\n",
        "\r\n",
        "\r\n",
        "  def output(self):\r\n",
        "    print(self.summary)\r\n",
        "    print(\"------------------------------\")\r\n",
        "    print(\"R^2 : \", np.round(self.R2, 6))"
      ],
      "outputs": [],
      "metadata": {
        "id": "cB51PpzbHiSw"
      }
    },
    {
      "cell_type": "markdown",
      "source": [
        "**Sample run:**"
      ],
      "metadata": {
        "id": "TTNJUDEMHiSy"
      }
    },
    {
      "cell_type": "code",
      "execution_count": 69,
      "source": [
        "LR = linearRegression()                    # Create a linear regression object.\r\n",
        "LR.train(study, score)                     # Train.\r\n",
        "LR.output()                                # Display the training result."
      ],
      "outputs": [
        {
          "output_type": "stream",
          "name": "stdout",
          "text": [
            "           Coefficient\n",
            "Intercept    77.684670\n",
            "X1            2.221303\n",
            "------------------------------\n",
            "R^2 :  0.845842\n"
          ]
        }
      ],
      "metadata": {
        "id": "u6tzBl78HiSz",
        "outputId": "1b1bb499-caa2-4066-9ca3-c432837ad970"
      }
    }
  ]
}